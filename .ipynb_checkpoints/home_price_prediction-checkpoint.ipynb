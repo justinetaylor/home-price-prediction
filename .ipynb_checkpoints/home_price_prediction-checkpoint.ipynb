{
 "cells": [],
 "metadata": {
  "environment": {
   "name": "tf2-2-3-gpu.2-3.m56",
   "type": "gcloud",
   "uri": "gcr.io/deeplearning-platform-release/tf2-2-3-gpu.2-3:m56"
  }
 },
 "nbformat": 4,
 "nbformat_minor": 4
}
